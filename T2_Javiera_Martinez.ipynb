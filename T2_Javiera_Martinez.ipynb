{
  "nbformat": 4,
  "nbformat_minor": 0,
  "metadata": {
    "colab": {
      "provenance": [],
      "collapsed_sections": [
        "o9p0SELAt_MM",
        "wL9YEmkluKRQ"
      ],
      "authorship_tag": "ABX9TyN/D7EsST1sur4tlDGfPcE8",
      "include_colab_link": true
    },
    "kernelspec": {
      "name": "python3",
      "display_name": "Python 3"
    },
    "language_info": {
      "name": "python"
    }
  },
  "cells": [
    {
      "cell_type": "markdown",
      "metadata": {
        "id": "view-in-github",
        "colab_type": "text"
      },
      "source": [
        "<a href=\"https://colab.research.google.com/github/javieramarti-dot/Maching_Learning/blob/main/T2_Javiera_Martinez.ipynb\" target=\"_parent\"><img src=\"https://colab.research.google.com/assets/colab-badge.svg\" alt=\"Open In Colab\"/></a>"
      ]
    },
    {
      "cell_type": "markdown",
      "source": [
        "# Tarea 2"
      ],
      "metadata": {
        "id": "nqlkgscAuYNg"
      }
    },
    {
      "cell_type": "markdown",
      "source": [
        "## Nombre(s):\n",
        "- Javiera Martínez Rojas"
      ],
      "metadata": {
        "id": "e6NflbAFuWnd"
      }
    },
    {
      "cell_type": "markdown",
      "source": [
        "## Bosón de Higgs\n",
        "\n",
        "En esta tarea trabajaremos con datos simulados del bosón de Higgs (versión simplificada), del desafío de [Kaggle](https://www.kaggle.com/c/higgs-boson/overview). Los archivos son Higgs_features.csv y Higgs_labels.csv. Las etiquetas son 0 (no hay señal de Higgs) y 1 (señal de Higgs). Las features son similares a los vistos en el set que utilizamos en clases, tales como energía faltantes, energía, momentum, rapidez transversal y azimutal, etc. Puede encontrar más detalles [acá](https://higgsml.lal.in2p3.fr/files/2014/04/documentation_v1.8.pdf). Note que el set de datos para esta tarea es una versión simplificada."
      ],
      "metadata": {
        "id": "BDcWr0tLuiYF"
      }
    },
    {
      "cell_type": "markdown",
      "source": [
        "### Parte 1: Descripción de los datos\n",
        "\n",
        "Cargue los datos dataframes o arreglos de `numpy`, uno para features y otro para etiquetas\n",
        "\n",
        "- Identifique cúantes instancias y características hay en el set de datos\n",
        "- Haga un gráfico de la distribución (histograma) de cada feature en el set de datos, en un sólo gráfico. Agregue una leyenda con las etiquetas (Feature 1, Feature 2....etc.) y fije la transparencia de los histogramas (parámetro alpha) en 0.5 para que se noten mejor. ¿Observa algo inusual en la distribución de alguna de las features? Comente en el impacto de esto para su modelo\n",
        "- ¿Está balanceadas las etiquetas del set del datos? ¿ Por qué esto es un problema? ¿Qué métrica nos conviene usar?\n",
        "\n"
      ],
      "metadata": {
        "id": "o9p0SELAt_MM"
      }
    },
    {
      "cell_type": "code",
      "source": [
        "import numpy as np\n",
        "import pandas as pd\n",
        "import seaborn as sns\n",
        "import matplotlib.pyplot as plt\n",
        "\n",
        "from sklearn.model_selection import cross_val_predict\n",
        "from sklearn.tree import DecisionTreeClassifier\n",
        "from sklearn.model_selection import train_test_split, KFold, StratifiedKFold, cross_val_score, cross_validate, GridSearchCV\n",
        "from sklearn import metrics\n",
        "from sklearn.svm import SVC\n",
        "from sklearn.preprocessing import StandardScaler\n",
        "import matplotlib\n",
        "from sklearn.utils import shuffle\n",
        "from sklearn.pipeline import make_pipeline"
      ],
      "metadata": {
        "id": "7FVFzmL8Tm46"
      },
      "execution_count": 39,
      "outputs": []
    },
    {
      "cell_type": "markdown",
      "source": [
        "Partimos importando los datos y viendo que contienen"
      ],
      "metadata": {
        "id": "sO_aFqHpykuv"
      }
    },
    {
      "cell_type": "code",
      "execution_count": 2,
      "metadata": {
        "colab": {
          "base_uri": "https://localhost:8080/"
        },
        "id": "1TP_qoQlHLOb",
        "outputId": "2a975d5e-4f11-413f-efd2-d84434dda344"
      },
      "outputs": [
        {
          "output_type": "stream",
          "name": "stdout",
          "text": [
            "Mounted at /content/drive\n"
          ]
        }
      ],
      "source": [
        "\n",
        "from google.colab import drive\n",
        "drive.mount('/content/drive')\n",
        "features=pd.read_csv('/content/drive/MyDrive/Higgs_features.csv')\n",
        "labels=pd.read_csv('/content/drive/MyDrive/Higgs_labels.csv')"
      ]
    },
    {
      "cell_type": "code",
      "source": [
        "font = {'size'   : 8}\n",
        "matplotlib.rc('font', **font)\n",
        "matplotlib.rc('xtick', labelsize=8)\n",
        "matplotlib.rc('ytick', labelsize=8)\n",
        "matplotlib.rcParams.update({'figure.autolayout': False})\n",
        "matplotlib.rcParams['figure.dpi'] = 100"
      ],
      "metadata": {
        "id": "5wjD2dHOiI3p"
      },
      "execution_count": 3,
      "outputs": []
    },
    {
      "cell_type": "code",
      "source": [
        "features"
      ],
      "metadata": {
        "colab": {
          "base_uri": "https://localhost:8080/",
          "height": 423
        },
        "id": "cNbRYMCDftGM",
        "outputId": "be319562-0dd0-474d-84fc-557146bdde7d"
      },
      "execution_count": 4,
      "outputs": [
        {
          "output_type": "execute_result",
          "data": {
            "text/plain": [
              "       393.3350  79.4600  308.8790  4.0950  1.4030  -1.4110  49.0630  39.4780\n",
              "0        71.048   29.291    55.602   2.439   1.667   -1.412   22.926    9.486\n",
              "1       141.450   87.017    72.091   1.472   4.714    1.233   23.591   69.754\n",
              "2       156.539   39.797   127.933   4.017   1.279   -1.408   21.415   18.222\n",
              "3        89.639   34.399    66.741   2.934   1.417   -1.377   26.459    8.257\n",
              "4       103.203    7.979    56.074   1.420   0.476    1.216   57.804   60.140\n",
              "...         ...      ...       ...     ...     ...      ...      ...      ...\n",
              "24994   109.449   58.608    65.599   2.573   1.103    1.201   31.336   29.377\n",
              "24995   139.483   32.872    96.408   2.439   0.447    1.325   69.421   14.668\n",
              "24996    78.421   51.766    51.303   2.054   1.225    1.108   26.775   30.509\n",
              "24997    90.507   70.860    75.535   1.650   1.122   -1.410   45.511   27.279\n",
              "24998  -999.000   71.491    35.996   1.468   1.491   -1.395   20.520   44.200\n",
              "\n",
              "[24999 rows x 8 columns]"
            ],
            "text/html": [
              "\n",
              "  <div id=\"df-6fe7e36b-2c03-475c-9c83-515f0d1bbd01\" class=\"colab-df-container\">\n",
              "    <div>\n",
              "<style scoped>\n",
              "    .dataframe tbody tr th:only-of-type {\n",
              "        vertical-align: middle;\n",
              "    }\n",
              "\n",
              "    .dataframe tbody tr th {\n",
              "        vertical-align: top;\n",
              "    }\n",
              "\n",
              "    .dataframe thead th {\n",
              "        text-align: right;\n",
              "    }\n",
              "</style>\n",
              "<table border=\"1\" class=\"dataframe\">\n",
              "  <thead>\n",
              "    <tr style=\"text-align: right;\">\n",
              "      <th></th>\n",
              "      <th>393.3350</th>\n",
              "      <th>79.4600</th>\n",
              "      <th>308.8790</th>\n",
              "      <th>4.0950</th>\n",
              "      <th>1.4030</th>\n",
              "      <th>-1.4110</th>\n",
              "      <th>49.0630</th>\n",
              "      <th>39.4780</th>\n",
              "    </tr>\n",
              "  </thead>\n",
              "  <tbody>\n",
              "    <tr>\n",
              "      <th>0</th>\n",
              "      <td>71.048</td>\n",
              "      <td>29.291</td>\n",
              "      <td>55.602</td>\n",
              "      <td>2.439</td>\n",
              "      <td>1.667</td>\n",
              "      <td>-1.412</td>\n",
              "      <td>22.926</td>\n",
              "      <td>9.486</td>\n",
              "    </tr>\n",
              "    <tr>\n",
              "      <th>1</th>\n",
              "      <td>141.450</td>\n",
              "      <td>87.017</td>\n",
              "      <td>72.091</td>\n",
              "      <td>1.472</td>\n",
              "      <td>4.714</td>\n",
              "      <td>1.233</td>\n",
              "      <td>23.591</td>\n",
              "      <td>69.754</td>\n",
              "    </tr>\n",
              "    <tr>\n",
              "      <th>2</th>\n",
              "      <td>156.539</td>\n",
              "      <td>39.797</td>\n",
              "      <td>127.933</td>\n",
              "      <td>4.017</td>\n",
              "      <td>1.279</td>\n",
              "      <td>-1.408</td>\n",
              "      <td>21.415</td>\n",
              "      <td>18.222</td>\n",
              "    </tr>\n",
              "    <tr>\n",
              "      <th>3</th>\n",
              "      <td>89.639</td>\n",
              "      <td>34.399</td>\n",
              "      <td>66.741</td>\n",
              "      <td>2.934</td>\n",
              "      <td>1.417</td>\n",
              "      <td>-1.377</td>\n",
              "      <td>26.459</td>\n",
              "      <td>8.257</td>\n",
              "    </tr>\n",
              "    <tr>\n",
              "      <th>4</th>\n",
              "      <td>103.203</td>\n",
              "      <td>7.979</td>\n",
              "      <td>56.074</td>\n",
              "      <td>1.420</td>\n",
              "      <td>0.476</td>\n",
              "      <td>1.216</td>\n",
              "      <td>57.804</td>\n",
              "      <td>60.140</td>\n",
              "    </tr>\n",
              "    <tr>\n",
              "      <th>...</th>\n",
              "      <td>...</td>\n",
              "      <td>...</td>\n",
              "      <td>...</td>\n",
              "      <td>...</td>\n",
              "      <td>...</td>\n",
              "      <td>...</td>\n",
              "      <td>...</td>\n",
              "      <td>...</td>\n",
              "    </tr>\n",
              "    <tr>\n",
              "      <th>24994</th>\n",
              "      <td>109.449</td>\n",
              "      <td>58.608</td>\n",
              "      <td>65.599</td>\n",
              "      <td>2.573</td>\n",
              "      <td>1.103</td>\n",
              "      <td>1.201</td>\n",
              "      <td>31.336</td>\n",
              "      <td>29.377</td>\n",
              "    </tr>\n",
              "    <tr>\n",
              "      <th>24995</th>\n",
              "      <td>139.483</td>\n",
              "      <td>32.872</td>\n",
              "      <td>96.408</td>\n",
              "      <td>2.439</td>\n",
              "      <td>0.447</td>\n",
              "      <td>1.325</td>\n",
              "      <td>69.421</td>\n",
              "      <td>14.668</td>\n",
              "    </tr>\n",
              "    <tr>\n",
              "      <th>24996</th>\n",
              "      <td>78.421</td>\n",
              "      <td>51.766</td>\n",
              "      <td>51.303</td>\n",
              "      <td>2.054</td>\n",
              "      <td>1.225</td>\n",
              "      <td>1.108</td>\n",
              "      <td>26.775</td>\n",
              "      <td>30.509</td>\n",
              "    </tr>\n",
              "    <tr>\n",
              "      <th>24997</th>\n",
              "      <td>90.507</td>\n",
              "      <td>70.860</td>\n",
              "      <td>75.535</td>\n",
              "      <td>1.650</td>\n",
              "      <td>1.122</td>\n",
              "      <td>-1.410</td>\n",
              "      <td>45.511</td>\n",
              "      <td>27.279</td>\n",
              "    </tr>\n",
              "    <tr>\n",
              "      <th>24998</th>\n",
              "      <td>-999.000</td>\n",
              "      <td>71.491</td>\n",
              "      <td>35.996</td>\n",
              "      <td>1.468</td>\n",
              "      <td>1.491</td>\n",
              "      <td>-1.395</td>\n",
              "      <td>20.520</td>\n",
              "      <td>44.200</td>\n",
              "    </tr>\n",
              "  </tbody>\n",
              "</table>\n",
              "<p>24999 rows × 8 columns</p>\n",
              "</div>\n",
              "    <div class=\"colab-df-buttons\">\n",
              "\n",
              "  <div class=\"colab-df-container\">\n",
              "    <button class=\"colab-df-convert\" onclick=\"convertToInteractive('df-6fe7e36b-2c03-475c-9c83-515f0d1bbd01')\"\n",
              "            title=\"Convert this dataframe to an interactive table.\"\n",
              "            style=\"display:none;\">\n",
              "\n",
              "  <svg xmlns=\"http://www.w3.org/2000/svg\" height=\"24px\" viewBox=\"0 -960 960 960\">\n",
              "    <path d=\"M120-120v-720h720v720H120Zm60-500h600v-160H180v160Zm220 220h160v-160H400v160Zm0 220h160v-160H400v160ZM180-400h160v-160H180v160Zm440 0h160v-160H620v160ZM180-180h160v-160H180v160Zm440 0h160v-160H620v160Z\"/>\n",
              "  </svg>\n",
              "    </button>\n",
              "\n",
              "  <style>\n",
              "    .colab-df-container {\n",
              "      display:flex;\n",
              "      gap: 12px;\n",
              "    }\n",
              "\n",
              "    .colab-df-convert {\n",
              "      background-color: #E8F0FE;\n",
              "      border: none;\n",
              "      border-radius: 50%;\n",
              "      cursor: pointer;\n",
              "      display: none;\n",
              "      fill: #1967D2;\n",
              "      height: 32px;\n",
              "      padding: 0 0 0 0;\n",
              "      width: 32px;\n",
              "    }\n",
              "\n",
              "    .colab-df-convert:hover {\n",
              "      background-color: #E2EBFA;\n",
              "      box-shadow: 0px 1px 2px rgba(60, 64, 67, 0.3), 0px 1px 3px 1px rgba(60, 64, 67, 0.15);\n",
              "      fill: #174EA6;\n",
              "    }\n",
              "\n",
              "    .colab-df-buttons div {\n",
              "      margin-bottom: 4px;\n",
              "    }\n",
              "\n",
              "    [theme=dark] .colab-df-convert {\n",
              "      background-color: #3B4455;\n",
              "      fill: #D2E3FC;\n",
              "    }\n",
              "\n",
              "    [theme=dark] .colab-df-convert:hover {\n",
              "      background-color: #434B5C;\n",
              "      box-shadow: 0px 1px 3px 1px rgba(0, 0, 0, 0.15);\n",
              "      filter: drop-shadow(0px 1px 2px rgba(0, 0, 0, 0.3));\n",
              "      fill: #FFFFFF;\n",
              "    }\n",
              "  </style>\n",
              "\n",
              "    <script>\n",
              "      const buttonEl =\n",
              "        document.querySelector('#df-6fe7e36b-2c03-475c-9c83-515f0d1bbd01 button.colab-df-convert');\n",
              "      buttonEl.style.display =\n",
              "        google.colab.kernel.accessAllowed ? 'block' : 'none';\n",
              "\n",
              "      async function convertToInteractive(key) {\n",
              "        const element = document.querySelector('#df-6fe7e36b-2c03-475c-9c83-515f0d1bbd01');\n",
              "        const dataTable =\n",
              "          await google.colab.kernel.invokeFunction('convertToInteractive',\n",
              "                                                    [key], {});\n",
              "        if (!dataTable) return;\n",
              "\n",
              "        const docLinkHtml = 'Like what you see? Visit the ' +\n",
              "          '<a target=\"_blank\" href=https://colab.research.google.com/notebooks/data_table.ipynb>data table notebook</a>'\n",
              "          + ' to learn more about interactive tables.';\n",
              "        element.innerHTML = '';\n",
              "        dataTable['output_type'] = 'display_data';\n",
              "        await google.colab.output.renderOutput(dataTable, element);\n",
              "        const docLink = document.createElement('div');\n",
              "        docLink.innerHTML = docLinkHtml;\n",
              "        element.appendChild(docLink);\n",
              "      }\n",
              "    </script>\n",
              "  </div>\n",
              "\n",
              "\n",
              "    <div id=\"df-62cb852d-07b0-4ed4-9214-8ed5c0e7afe3\">\n",
              "      <button class=\"colab-df-quickchart\" onclick=\"quickchart('df-62cb852d-07b0-4ed4-9214-8ed5c0e7afe3')\"\n",
              "                title=\"Suggest charts\"\n",
              "                style=\"display:none;\">\n",
              "\n",
              "<svg xmlns=\"http://www.w3.org/2000/svg\" height=\"24px\"viewBox=\"0 0 24 24\"\n",
              "     width=\"24px\">\n",
              "    <g>\n",
              "        <path d=\"M19 3H5c-1.1 0-2 .9-2 2v14c0 1.1.9 2 2 2h14c1.1 0 2-.9 2-2V5c0-1.1-.9-2-2-2zM9 17H7v-7h2v7zm4 0h-2V7h2v10zm4 0h-2v-4h2v4z\"/>\n",
              "    </g>\n",
              "</svg>\n",
              "      </button>\n",
              "\n",
              "<style>\n",
              "  .colab-df-quickchart {\n",
              "      --bg-color: #E8F0FE;\n",
              "      --fill-color: #1967D2;\n",
              "      --hover-bg-color: #E2EBFA;\n",
              "      --hover-fill-color: #174EA6;\n",
              "      --disabled-fill-color: #AAA;\n",
              "      --disabled-bg-color: #DDD;\n",
              "  }\n",
              "\n",
              "  [theme=dark] .colab-df-quickchart {\n",
              "      --bg-color: #3B4455;\n",
              "      --fill-color: #D2E3FC;\n",
              "      --hover-bg-color: #434B5C;\n",
              "      --hover-fill-color: #FFFFFF;\n",
              "      --disabled-bg-color: #3B4455;\n",
              "      --disabled-fill-color: #666;\n",
              "  }\n",
              "\n",
              "  .colab-df-quickchart {\n",
              "    background-color: var(--bg-color);\n",
              "    border: none;\n",
              "    border-radius: 50%;\n",
              "    cursor: pointer;\n",
              "    display: none;\n",
              "    fill: var(--fill-color);\n",
              "    height: 32px;\n",
              "    padding: 0;\n",
              "    width: 32px;\n",
              "  }\n",
              "\n",
              "  .colab-df-quickchart:hover {\n",
              "    background-color: var(--hover-bg-color);\n",
              "    box-shadow: 0 1px 2px rgba(60, 64, 67, 0.3), 0 1px 3px 1px rgba(60, 64, 67, 0.15);\n",
              "    fill: var(--button-hover-fill-color);\n",
              "  }\n",
              "\n",
              "  .colab-df-quickchart-complete:disabled,\n",
              "  .colab-df-quickchart-complete:disabled:hover {\n",
              "    background-color: var(--disabled-bg-color);\n",
              "    fill: var(--disabled-fill-color);\n",
              "    box-shadow: none;\n",
              "  }\n",
              "\n",
              "  .colab-df-spinner {\n",
              "    border: 2px solid var(--fill-color);\n",
              "    border-color: transparent;\n",
              "    border-bottom-color: var(--fill-color);\n",
              "    animation:\n",
              "      spin 1s steps(1) infinite;\n",
              "  }\n",
              "\n",
              "  @keyframes spin {\n",
              "    0% {\n",
              "      border-color: transparent;\n",
              "      border-bottom-color: var(--fill-color);\n",
              "      border-left-color: var(--fill-color);\n",
              "    }\n",
              "    20% {\n",
              "      border-color: transparent;\n",
              "      border-left-color: var(--fill-color);\n",
              "      border-top-color: var(--fill-color);\n",
              "    }\n",
              "    30% {\n",
              "      border-color: transparent;\n",
              "      border-left-color: var(--fill-color);\n",
              "      border-top-color: var(--fill-color);\n",
              "      border-right-color: var(--fill-color);\n",
              "    }\n",
              "    40% {\n",
              "      border-color: transparent;\n",
              "      border-right-color: var(--fill-color);\n",
              "      border-top-color: var(--fill-color);\n",
              "    }\n",
              "    60% {\n",
              "      border-color: transparent;\n",
              "      border-right-color: var(--fill-color);\n",
              "    }\n",
              "    80% {\n",
              "      border-color: transparent;\n",
              "      border-right-color: var(--fill-color);\n",
              "      border-bottom-color: var(--fill-color);\n",
              "    }\n",
              "    90% {\n",
              "      border-color: transparent;\n",
              "      border-bottom-color: var(--fill-color);\n",
              "    }\n",
              "  }\n",
              "</style>\n",
              "\n",
              "      <script>\n",
              "        async function quickchart(key) {\n",
              "          const quickchartButtonEl =\n",
              "            document.querySelector('#' + key + ' button');\n",
              "          quickchartButtonEl.disabled = true;  // To prevent multiple clicks.\n",
              "          quickchartButtonEl.classList.add('colab-df-spinner');\n",
              "          try {\n",
              "            const charts = await google.colab.kernel.invokeFunction(\n",
              "                'suggestCharts', [key], {});\n",
              "          } catch (error) {\n",
              "            console.error('Error during call to suggestCharts:', error);\n",
              "          }\n",
              "          quickchartButtonEl.classList.remove('colab-df-spinner');\n",
              "          quickchartButtonEl.classList.add('colab-df-quickchart-complete');\n",
              "        }\n",
              "        (() => {\n",
              "          let quickchartButtonEl =\n",
              "            document.querySelector('#df-62cb852d-07b0-4ed4-9214-8ed5c0e7afe3 button');\n",
              "          quickchartButtonEl.style.display =\n",
              "            google.colab.kernel.accessAllowed ? 'block' : 'none';\n",
              "        })();\n",
              "      </script>\n",
              "    </div>\n",
              "\n",
              "  <div id=\"id_b1f3fb52-b9ff-47c2-a00c-401f21c80572\">\n",
              "    <style>\n",
              "      .colab-df-generate {\n",
              "        background-color: #E8F0FE;\n",
              "        border: none;\n",
              "        border-radius: 50%;\n",
              "        cursor: pointer;\n",
              "        display: none;\n",
              "        fill: #1967D2;\n",
              "        height: 32px;\n",
              "        padding: 0 0 0 0;\n",
              "        width: 32px;\n",
              "      }\n",
              "\n",
              "      .colab-df-generate:hover {\n",
              "        background-color: #E2EBFA;\n",
              "        box-shadow: 0px 1px 2px rgba(60, 64, 67, 0.3), 0px 1px 3px 1px rgba(60, 64, 67, 0.15);\n",
              "        fill: #174EA6;\n",
              "      }\n",
              "\n",
              "      [theme=dark] .colab-df-generate {\n",
              "        background-color: #3B4455;\n",
              "        fill: #D2E3FC;\n",
              "      }\n",
              "\n",
              "      [theme=dark] .colab-df-generate:hover {\n",
              "        background-color: #434B5C;\n",
              "        box-shadow: 0px 1px 3px 1px rgba(0, 0, 0, 0.15);\n",
              "        filter: drop-shadow(0px 1px 2px rgba(0, 0, 0, 0.3));\n",
              "        fill: #FFFFFF;\n",
              "      }\n",
              "    </style>\n",
              "    <button class=\"colab-df-generate\" onclick=\"generateWithVariable('features')\"\n",
              "            title=\"Generate code using this dataframe.\"\n",
              "            style=\"display:none;\">\n",
              "\n",
              "  <svg xmlns=\"http://www.w3.org/2000/svg\" height=\"24px\"viewBox=\"0 0 24 24\"\n",
              "       width=\"24px\">\n",
              "    <path d=\"M7,19H8.4L18.45,9,17,7.55,7,17.6ZM5,21V16.75L18.45,3.32a2,2,0,0,1,2.83,0l1.4,1.43a1.91,1.91,0,0,1,.58,1.4,1.91,1.91,0,0,1-.58,1.4L9.25,21ZM18.45,9,17,7.55Zm-12,3A5.31,5.31,0,0,0,4.9,8.1,5.31,5.31,0,0,0,1,6.5,5.31,5.31,0,0,0,4.9,4.9,5.31,5.31,0,0,0,6.5,1,5.31,5.31,0,0,0,8.1,4.9,5.31,5.31,0,0,0,12,6.5,5.46,5.46,0,0,0,6.5,12Z\"/>\n",
              "  </svg>\n",
              "    </button>\n",
              "    <script>\n",
              "      (() => {\n",
              "      const buttonEl =\n",
              "        document.querySelector('#id_b1f3fb52-b9ff-47c2-a00c-401f21c80572 button.colab-df-generate');\n",
              "      buttonEl.style.display =\n",
              "        google.colab.kernel.accessAllowed ? 'block' : 'none';\n",
              "\n",
              "      buttonEl.onclick = () => {\n",
              "        google.colab.notebook.generateWithVariable('features');\n",
              "      }\n",
              "      })();\n",
              "    </script>\n",
              "  </div>\n",
              "\n",
              "    </div>\n",
              "  </div>\n"
            ],
            "application/vnd.google.colaboratory.intrinsic+json": {
              "type": "dataframe",
              "variable_name": "features",
              "summary": "{\n  \"name\": \"features\",\n  \"rows\": 24999,\n  \"fields\": [\n    {\n      \"column\": \"393.3350\",\n      \"properties\": {\n        \"dtype\": \"number\",\n        \"std\": 404.9747699078235,\n        \"min\": -999.0,\n        \"max\": 835.25,\n        \"num_unique_values\": 19471,\n        \"samples\": [\n          118.976,\n          256.66,\n          85.918\n        ],\n        \"semantic_type\": \"\",\n        \"description\": \"\"\n      }\n    },\n    {\n      \"column\": \"79.4600\",\n      \"properties\": {\n        \"dtype\": \"number\",\n        \"std\": 35.10063768428681,\n        \"min\": 0.005,\n        \"max\": 595.819,\n        \"num_unique_values\": 22256,\n        \"samples\": [\n          119.603,\n          92.648,\n          63.841\n        ],\n        \"semantic_type\": \"\",\n        \"description\": \"\"\n      }\n    },\n    {\n      \"column\": \"308.8790\",\n      \"properties\": {\n        \"dtype\": \"number\",\n        \"std\": 39.82717955691902,\n        \"min\": 9.495,\n        \"max\": 640.039,\n        \"num_unique_values\": 21760,\n        \"samples\": [\n          107.277,\n          79.978,\n          56.145\n        ],\n        \"semantic_type\": \"\",\n        \"description\": \"\"\n      }\n    },\n    {\n      \"column\": \"4.0950\",\n      \"properties\": {\n        \"dtype\": \"number\",\n        \"std\": 0.7811760890646403,\n        \"min\": 0.313,\n        \"max\": 5.655,\n        \"num_unique_values\": 3623,\n        \"samples\": [\n          3.107,\n          0.939,\n          1.538\n        ],\n        \"semantic_type\": \"\",\n        \"description\": \"\"\n      }\n    },\n    {\n      \"column\": \"1.4030\",\n      \"properties\": {\n        \"dtype\": \"number\",\n        \"std\": 0.8460226647659321,\n        \"min\": 0.077,\n        \"max\": 13.137,\n        \"num_unique_values\": 3595,\n        \"samples\": [\n          3.435,\n          0.348,\n          6.165\n        ],\n        \"semantic_type\": \"\",\n        \"description\": \"\"\n      }\n    },\n    {\n      \"column\": \"-1.4110\",\n      \"properties\": {\n        \"dtype\": \"number\",\n        \"std\": 1.1916211334635016,\n        \"min\": -1.414,\n        \"max\": 1.414,\n        \"num_unique_values\": 2708,\n        \"samples\": [\n          -0.691,\n          -1.193,\n          1.035\n        ],\n        \"semantic_type\": \"\",\n        \"description\": \"\"\n      }\n    },\n    {\n      \"column\": \"49.0630\",\n      \"properties\": {\n        \"dtype\": \"number\",\n        \"std\": 22.44642184770839,\n        \"min\": 20.0,\n        \"max\": 381.629,\n        \"num_unique_values\": 18321,\n        \"samples\": [\n          24.236,\n          29.859,\n          82.018\n        ],\n        \"semantic_type\": \"\",\n        \"description\": \"\"\n      }\n    },\n    {\n      \"column\": \"39.4780\",\n      \"properties\": {\n        \"dtype\": \"number\",\n        \"std\": 32.431998746545595,\n        \"min\": 0.346,\n        \"max\": 551.06,\n        \"num_unique_values\": 21357,\n        \"samples\": [\n          34.318,\n          96.887,\n          51.951\n        ],\n        \"semantic_type\": \"\",\n        \"description\": \"\"\n      }\n    }\n  ]\n}"
            }
          },
          "metadata": {},
          "execution_count": 4
        }
      ]
    },
    {
      "cell_type": "code",
      "source": [
        "labels"
      ],
      "metadata": {
        "colab": {
          "base_uri": "https://localhost:8080/",
          "height": 423
        },
        "id": "GZ1cm3_EgD1z",
        "outputId": "ab7bc14b-e918-4aa7-ea68-4e810480b757"
      },
      "execution_count": 5,
      "outputs": [
        {
          "output_type": "execute_result",
          "data": {
            "text/plain": [
              "       0\n",
              "0      0\n",
              "1      0\n",
              "2      0\n",
              "3      0\n",
              "4      0\n",
              "...   ..\n",
              "24994  0\n",
              "24995  1\n",
              "24996  0\n",
              "24997  0\n",
              "24998  0\n",
              "\n",
              "[24999 rows x 1 columns]"
            ],
            "text/html": [
              "\n",
              "  <div id=\"df-c5a26aee-1eb1-40c0-8df7-c70950e082cf\" class=\"colab-df-container\">\n",
              "    <div>\n",
              "<style scoped>\n",
              "    .dataframe tbody tr th:only-of-type {\n",
              "        vertical-align: middle;\n",
              "    }\n",
              "\n",
              "    .dataframe tbody tr th {\n",
              "        vertical-align: top;\n",
              "    }\n",
              "\n",
              "    .dataframe thead th {\n",
              "        text-align: right;\n",
              "    }\n",
              "</style>\n",
              "<table border=\"1\" class=\"dataframe\">\n",
              "  <thead>\n",
              "    <tr style=\"text-align: right;\">\n",
              "      <th></th>\n",
              "      <th>0</th>\n",
              "    </tr>\n",
              "  </thead>\n",
              "  <tbody>\n",
              "    <tr>\n",
              "      <th>0</th>\n",
              "      <td>0</td>\n",
              "    </tr>\n",
              "    <tr>\n",
              "      <th>1</th>\n",
              "      <td>0</td>\n",
              "    </tr>\n",
              "    <tr>\n",
              "      <th>2</th>\n",
              "      <td>0</td>\n",
              "    </tr>\n",
              "    <tr>\n",
              "      <th>3</th>\n",
              "      <td>0</td>\n",
              "    </tr>\n",
              "    <tr>\n",
              "      <th>4</th>\n",
              "      <td>0</td>\n",
              "    </tr>\n",
              "    <tr>\n",
              "      <th>...</th>\n",
              "      <td>...</td>\n",
              "    </tr>\n",
              "    <tr>\n",
              "      <th>24994</th>\n",
              "      <td>0</td>\n",
              "    </tr>\n",
              "    <tr>\n",
              "      <th>24995</th>\n",
              "      <td>1</td>\n",
              "    </tr>\n",
              "    <tr>\n",
              "      <th>24996</th>\n",
              "      <td>0</td>\n",
              "    </tr>\n",
              "    <tr>\n",
              "      <th>24997</th>\n",
              "      <td>0</td>\n",
              "    </tr>\n",
              "    <tr>\n",
              "      <th>24998</th>\n",
              "      <td>0</td>\n",
              "    </tr>\n",
              "  </tbody>\n",
              "</table>\n",
              "<p>24999 rows × 1 columns</p>\n",
              "</div>\n",
              "    <div class=\"colab-df-buttons\">\n",
              "\n",
              "  <div class=\"colab-df-container\">\n",
              "    <button class=\"colab-df-convert\" onclick=\"convertToInteractive('df-c5a26aee-1eb1-40c0-8df7-c70950e082cf')\"\n",
              "            title=\"Convert this dataframe to an interactive table.\"\n",
              "            style=\"display:none;\">\n",
              "\n",
              "  <svg xmlns=\"http://www.w3.org/2000/svg\" height=\"24px\" viewBox=\"0 -960 960 960\">\n",
              "    <path d=\"M120-120v-720h720v720H120Zm60-500h600v-160H180v160Zm220 220h160v-160H400v160Zm0 220h160v-160H400v160ZM180-400h160v-160H180v160Zm440 0h160v-160H620v160ZM180-180h160v-160H180v160Zm440 0h160v-160H620v160Z\"/>\n",
              "  </svg>\n",
              "    </button>\n",
              "\n",
              "  <style>\n",
              "    .colab-df-container {\n",
              "      display:flex;\n",
              "      gap: 12px;\n",
              "    }\n",
              "\n",
              "    .colab-df-convert {\n",
              "      background-color: #E8F0FE;\n",
              "      border: none;\n",
              "      border-radius: 50%;\n",
              "      cursor: pointer;\n",
              "      display: none;\n",
              "      fill: #1967D2;\n",
              "      height: 32px;\n",
              "      padding: 0 0 0 0;\n",
              "      width: 32px;\n",
              "    }\n",
              "\n",
              "    .colab-df-convert:hover {\n",
              "      background-color: #E2EBFA;\n",
              "      box-shadow: 0px 1px 2px rgba(60, 64, 67, 0.3), 0px 1px 3px 1px rgba(60, 64, 67, 0.15);\n",
              "      fill: #174EA6;\n",
              "    }\n",
              "\n",
              "    .colab-df-buttons div {\n",
              "      margin-bottom: 4px;\n",
              "    }\n",
              "\n",
              "    [theme=dark] .colab-df-convert {\n",
              "      background-color: #3B4455;\n",
              "      fill: #D2E3FC;\n",
              "    }\n",
              "\n",
              "    [theme=dark] .colab-df-convert:hover {\n",
              "      background-color: #434B5C;\n",
              "      box-shadow: 0px 1px 3px 1px rgba(0, 0, 0, 0.15);\n",
              "      filter: drop-shadow(0px 1px 2px rgba(0, 0, 0, 0.3));\n",
              "      fill: #FFFFFF;\n",
              "    }\n",
              "  </style>\n",
              "\n",
              "    <script>\n",
              "      const buttonEl =\n",
              "        document.querySelector('#df-c5a26aee-1eb1-40c0-8df7-c70950e082cf button.colab-df-convert');\n",
              "      buttonEl.style.display =\n",
              "        google.colab.kernel.accessAllowed ? 'block' : 'none';\n",
              "\n",
              "      async function convertToInteractive(key) {\n",
              "        const element = document.querySelector('#df-c5a26aee-1eb1-40c0-8df7-c70950e082cf');\n",
              "        const dataTable =\n",
              "          await google.colab.kernel.invokeFunction('convertToInteractive',\n",
              "                                                    [key], {});\n",
              "        if (!dataTable) return;\n",
              "\n",
              "        const docLinkHtml = 'Like what you see? Visit the ' +\n",
              "          '<a target=\"_blank\" href=https://colab.research.google.com/notebooks/data_table.ipynb>data table notebook</a>'\n",
              "          + ' to learn more about interactive tables.';\n",
              "        element.innerHTML = '';\n",
              "        dataTable['output_type'] = 'display_data';\n",
              "        await google.colab.output.renderOutput(dataTable, element);\n",
              "        const docLink = document.createElement('div');\n",
              "        docLink.innerHTML = docLinkHtml;\n",
              "        element.appendChild(docLink);\n",
              "      }\n",
              "    </script>\n",
              "  </div>\n",
              "\n",
              "\n",
              "    <div id=\"df-82f217ad-797b-4a30-83eb-81fdcb57903d\">\n",
              "      <button class=\"colab-df-quickchart\" onclick=\"quickchart('df-82f217ad-797b-4a30-83eb-81fdcb57903d')\"\n",
              "                title=\"Suggest charts\"\n",
              "                style=\"display:none;\">\n",
              "\n",
              "<svg xmlns=\"http://www.w3.org/2000/svg\" height=\"24px\"viewBox=\"0 0 24 24\"\n",
              "     width=\"24px\">\n",
              "    <g>\n",
              "        <path d=\"M19 3H5c-1.1 0-2 .9-2 2v14c0 1.1.9 2 2 2h14c1.1 0 2-.9 2-2V5c0-1.1-.9-2-2-2zM9 17H7v-7h2v7zm4 0h-2V7h2v10zm4 0h-2v-4h2v4z\"/>\n",
              "    </g>\n",
              "</svg>\n",
              "      </button>\n",
              "\n",
              "<style>\n",
              "  .colab-df-quickchart {\n",
              "      --bg-color: #E8F0FE;\n",
              "      --fill-color: #1967D2;\n",
              "      --hover-bg-color: #E2EBFA;\n",
              "      --hover-fill-color: #174EA6;\n",
              "      --disabled-fill-color: #AAA;\n",
              "      --disabled-bg-color: #DDD;\n",
              "  }\n",
              "\n",
              "  [theme=dark] .colab-df-quickchart {\n",
              "      --bg-color: #3B4455;\n",
              "      --fill-color: #D2E3FC;\n",
              "      --hover-bg-color: #434B5C;\n",
              "      --hover-fill-color: #FFFFFF;\n",
              "      --disabled-bg-color: #3B4455;\n",
              "      --disabled-fill-color: #666;\n",
              "  }\n",
              "\n",
              "  .colab-df-quickchart {\n",
              "    background-color: var(--bg-color);\n",
              "    border: none;\n",
              "    border-radius: 50%;\n",
              "    cursor: pointer;\n",
              "    display: none;\n",
              "    fill: var(--fill-color);\n",
              "    height: 32px;\n",
              "    padding: 0;\n",
              "    width: 32px;\n",
              "  }\n",
              "\n",
              "  .colab-df-quickchart:hover {\n",
              "    background-color: var(--hover-bg-color);\n",
              "    box-shadow: 0 1px 2px rgba(60, 64, 67, 0.3), 0 1px 3px 1px rgba(60, 64, 67, 0.15);\n",
              "    fill: var(--button-hover-fill-color);\n",
              "  }\n",
              "\n",
              "  .colab-df-quickchart-complete:disabled,\n",
              "  .colab-df-quickchart-complete:disabled:hover {\n",
              "    background-color: var(--disabled-bg-color);\n",
              "    fill: var(--disabled-fill-color);\n",
              "    box-shadow: none;\n",
              "  }\n",
              "\n",
              "  .colab-df-spinner {\n",
              "    border: 2px solid var(--fill-color);\n",
              "    border-color: transparent;\n",
              "    border-bottom-color: var(--fill-color);\n",
              "    animation:\n",
              "      spin 1s steps(1) infinite;\n",
              "  }\n",
              "\n",
              "  @keyframes spin {\n",
              "    0% {\n",
              "      border-color: transparent;\n",
              "      border-bottom-color: var(--fill-color);\n",
              "      border-left-color: var(--fill-color);\n",
              "    }\n",
              "    20% {\n",
              "      border-color: transparent;\n",
              "      border-left-color: var(--fill-color);\n",
              "      border-top-color: var(--fill-color);\n",
              "    }\n",
              "    30% {\n",
              "      border-color: transparent;\n",
              "      border-left-color: var(--fill-color);\n",
              "      border-top-color: var(--fill-color);\n",
              "      border-right-color: var(--fill-color);\n",
              "    }\n",
              "    40% {\n",
              "      border-color: transparent;\n",
              "      border-right-color: var(--fill-color);\n",
              "      border-top-color: var(--fill-color);\n",
              "    }\n",
              "    60% {\n",
              "      border-color: transparent;\n",
              "      border-right-color: var(--fill-color);\n",
              "    }\n",
              "    80% {\n",
              "      border-color: transparent;\n",
              "      border-right-color: var(--fill-color);\n",
              "      border-bottom-color: var(--fill-color);\n",
              "    }\n",
              "    90% {\n",
              "      border-color: transparent;\n",
              "      border-bottom-color: var(--fill-color);\n",
              "    }\n",
              "  }\n",
              "</style>\n",
              "\n",
              "      <script>\n",
              "        async function quickchart(key) {\n",
              "          const quickchartButtonEl =\n",
              "            document.querySelector('#' + key + ' button');\n",
              "          quickchartButtonEl.disabled = true;  // To prevent multiple clicks.\n",
              "          quickchartButtonEl.classList.add('colab-df-spinner');\n",
              "          try {\n",
              "            const charts = await google.colab.kernel.invokeFunction(\n",
              "                'suggestCharts', [key], {});\n",
              "          } catch (error) {\n",
              "            console.error('Error during call to suggestCharts:', error);\n",
              "          }\n",
              "          quickchartButtonEl.classList.remove('colab-df-spinner');\n",
              "          quickchartButtonEl.classList.add('colab-df-quickchart-complete');\n",
              "        }\n",
              "        (() => {\n",
              "          let quickchartButtonEl =\n",
              "            document.querySelector('#df-82f217ad-797b-4a30-83eb-81fdcb57903d button');\n",
              "          quickchartButtonEl.style.display =\n",
              "            google.colab.kernel.accessAllowed ? 'block' : 'none';\n",
              "        })();\n",
              "      </script>\n",
              "    </div>\n",
              "\n",
              "  <div id=\"id_0abc13bb-58ce-4a44-b59b-4cd418949795\">\n",
              "    <style>\n",
              "      .colab-df-generate {\n",
              "        background-color: #E8F0FE;\n",
              "        border: none;\n",
              "        border-radius: 50%;\n",
              "        cursor: pointer;\n",
              "        display: none;\n",
              "        fill: #1967D2;\n",
              "        height: 32px;\n",
              "        padding: 0 0 0 0;\n",
              "        width: 32px;\n",
              "      }\n",
              "\n",
              "      .colab-df-generate:hover {\n",
              "        background-color: #E2EBFA;\n",
              "        box-shadow: 0px 1px 2px rgba(60, 64, 67, 0.3), 0px 1px 3px 1px rgba(60, 64, 67, 0.15);\n",
              "        fill: #174EA6;\n",
              "      }\n",
              "\n",
              "      [theme=dark] .colab-df-generate {\n",
              "        background-color: #3B4455;\n",
              "        fill: #D2E3FC;\n",
              "      }\n",
              "\n",
              "      [theme=dark] .colab-df-generate:hover {\n",
              "        background-color: #434B5C;\n",
              "        box-shadow: 0px 1px 3px 1px rgba(0, 0, 0, 0.15);\n",
              "        filter: drop-shadow(0px 1px 2px rgba(0, 0, 0, 0.3));\n",
              "        fill: #FFFFFF;\n",
              "      }\n",
              "    </style>\n",
              "    <button class=\"colab-df-generate\" onclick=\"generateWithVariable('labels')\"\n",
              "            title=\"Generate code using this dataframe.\"\n",
              "            style=\"display:none;\">\n",
              "\n",
              "  <svg xmlns=\"http://www.w3.org/2000/svg\" height=\"24px\"viewBox=\"0 0 24 24\"\n",
              "       width=\"24px\">\n",
              "    <path d=\"M7,19H8.4L18.45,9,17,7.55,7,17.6ZM5,21V16.75L18.45,3.32a2,2,0,0,1,2.83,0l1.4,1.43a1.91,1.91,0,0,1,.58,1.4,1.91,1.91,0,0,1-.58,1.4L9.25,21ZM18.45,9,17,7.55Zm-12,3A5.31,5.31,0,0,0,4.9,8.1,5.31,5.31,0,0,0,1,6.5,5.31,5.31,0,0,0,4.9,4.9,5.31,5.31,0,0,0,6.5,1,5.31,5.31,0,0,0,8.1,4.9,5.31,5.31,0,0,0,12,6.5,5.46,5.46,0,0,0,6.5,12Z\"/>\n",
              "  </svg>\n",
              "    </button>\n",
              "    <script>\n",
              "      (() => {\n",
              "      const buttonEl =\n",
              "        document.querySelector('#id_0abc13bb-58ce-4a44-b59b-4cd418949795 button.colab-df-generate');\n",
              "      buttonEl.style.display =\n",
              "        google.colab.kernel.accessAllowed ? 'block' : 'none';\n",
              "\n",
              "      buttonEl.onclick = () => {\n",
              "        google.colab.notebook.generateWithVariable('labels');\n",
              "      }\n",
              "      })();\n",
              "    </script>\n",
              "  </div>\n",
              "\n",
              "    </div>\n",
              "  </div>\n"
            ],
            "application/vnd.google.colaboratory.intrinsic+json": {
              "type": "dataframe",
              "variable_name": "labels",
              "summary": "{\n  \"name\": \"labels\",\n  \"rows\": 24999,\n  \"fields\": [\n    {\n      \"column\": \"0\",\n      \"properties\": {\n        \"dtype\": \"number\",\n        \"std\": 0,\n        \"min\": 0,\n        \"max\": 1,\n        \"num_unique_values\": 2,\n        \"samples\": [\n          1,\n          0\n        ],\n        \"semantic_type\": \"\",\n        \"description\": \"\"\n      }\n    }\n  ]\n}"
            }
          },
          "metadata": {},
          "execution_count": 5
        }
      ]
    },
    {
      "cell_type": "code",
      "source": [
        "print(features.shape)\n",
        "print(labels.shape)"
      ],
      "metadata": {
        "colab": {
          "base_uri": "https://localhost:8080/"
        },
        "id": "-5H86SYLI0KI",
        "outputId": "49e388c0-f278-44ab-dcd5-2dc9d27ae0eb"
      },
      "execution_count": 6,
      "outputs": [
        {
          "output_type": "stream",
          "name": "stdout",
          "text": [
            "(24999, 8)\n",
            "(24999, 1)\n"
          ]
        }
      ]
    },
    {
      "cell_type": "markdown",
      "source": [
        "Observamos que el conjunto features contiene 24 999 instancias y 8 características. Además, verificamos que el número de filas es el mismo en features y labels, lo que confirma que cada instancia del conjunto de características tiene una etiqueta correspondiente en labels."
      ],
      "metadata": {
        "id": "NKUi4YJHLd2u"
      }
    },
    {
      "cell_type": "code",
      "source": [
        "sns.histplot(data=features, element=\"step\", alpha=0.5, common_norm=False)\n",
        "plt.legend(features.columns)\n",
        "plt.title(\"Grafico 1: Distribución de las features\")\n",
        "plt.show()\n"
      ],
      "metadata": {
        "id": "InHrPuCqjbEm",
        "outputId": "5f253c06-b57f-4c10-d552-a0a868585ba9",
        "colab": {
          "base_uri": "https://localhost:8080/",
          "height": 444
        }
      },
      "execution_count": 7,
      "outputs": [
        {
          "output_type": "display_data",
          "data": {
            "text/plain": [
              "<Figure size 640x480 with 1 Axes>"
            ],
            "image/png": "[encoded data removed]"
          },
          "metadata": {}
        }
      ]
    },
    {
      "cell_type": "markdown",
      "source": [
        "Notamos que para la variable representada en azul en el gráfico 1 tiene valores negativos lo cual resulta extraño por lo que al buscar en la descripción de las variables encontramos que “ Las variables se indican como “puede estar indefinida” cuando puede ocurrir que carezcan de sentido o no puedan calcularse; en ese caso, su valor es –999.0, el cual está fuera del rango normal de todas las variables.” lo cual concuerda con nuestros valores que se encuentra en -1000. Estos valores “no definidos” pueden causar distorsión en la media, varianza y rango de la variable. Por lo que serán reemplazados  por valores nulos ya que al ser muchos datos (comparado con otras variables) si solo los borramos habría reducido el tamaño de la muestra y podría haber introducido sesgos ya que si se trataba de un caso particular el modelo aprendería de una muestra poco real\n",
        "\n",
        "Para los demás features, notamos que la mayoría están concentradas en torno a 0, con algunas presentando colas largas o picos pronunciados, por lo que podemos decir que son distribuciones poco uniformes.\n"
      ],
      "metadata": {
        "id": "WLFyB1g6rcU9"
      }
    },
    {
      "cell_type": "code",
      "source": [
        "sns.histplot(data=labels, alpha=0.5)\n",
        "plt.legend(labels.columns)\n",
        "plt.title(\"Grafico 2: Distribución de las etiquetas\")\n",
        "plt.show()"
      ],
      "metadata": {
        "colab": {
          "base_uri": "https://localhost:8080/",
          "height": 444
        },
        "id": "rzjVecizp0tn",
        "outputId": "5b7a33a9-869a-42bc-d5c0-bf5bfa9258a0"
      },
      "execution_count": 8,
      "outputs": [
        {
          "output_type": "display_data",
          "data": {
            "text/plain": [
              "<Figure size 640x480 with 1 Axes>"
            ],
            "image/png": "[encoded data removed]"
          },
          "metadata": {}
        }
      ]
    },
    {
      "cell_type": "markdown",
      "source": [
        "Viendo la distribución de las etiquetas en el gráfico 2 notamos que está claramente desbalanceado lo cual tiene todo el sentido ya que detectar el bosón de higgs no es una tarea fácil. Ahora bien para nuestro modelo esto representa un problema porque las métricas como el accuracy pueden ser engañosas ya que nos dirá que el modelo funciona bien pero en realidad está ignorando la clase minoritaria.\n",
        "\n",
        "Por lo tanto, será mejor usar métricas que consideren el desbalance, como el F1-score, que combina precisión y recall, o bien la curva ROC–AUC para evaluar la capacidad del modelo de distinguir entre ambas clases. Si el objetivo hubiera sido encontrar la mayor cantidad de señales de Higgs posibles la mejor metrica hubiera sido recall.\n"
      ],
      "metadata": {
        "id": "fSyC_JM-tc97"
      }
    },
    {
      "cell_type": "markdown",
      "source": [
        "### Parte 2: Árbol de decisión\n",
        "\n",
        "- Implemente un clasificador de árbol de decisión con validación cruzada, para una métrica de su elección en base a lo respondido en la pregunta anterior. Reporte el promedio y desviación estándar de los scores obtenidos en los 5 folds.\n",
        "- Para esta muestra en particular se recomienda usar `StratifiedKFold`. ¿Por qué?\n",
        "- Genere las etiquetas predichas con `cross_val_predict` y genere la matriz de confusión\n",
        "- A partir de la matriz de confusión indique los valores de TP, TN, FP, FN. ¿Qué error domina, FP o FN?"
      ],
      "metadata": {
        "id": "wL9YEmkluKRQ"
      }
    },
    {
      "cell_type": "markdown",
      "source": [
        "Partimos dividiendo el conjunto de datos en los datos de entrenamiento que son el 80%  ( Xtrain y ytrain) y el conjunto de prueba que es 20% que utilizaremos más tarde (Xtest y ytest)"
      ],
      "metadata": {
        "id": "-F6-Bn7lISJt"
      }
    },
    {
      "cell_type": "code",
      "source": [
        "Xtrain, Xtest, ytrain, ytest = train_test_split(features, labels, test_size=0.2, random_state=2) #y fijamos la semilla con  random_state=2 para asegurarnos de la reproducibilidad\n"
      ],
      "metadata": {
        "id": "kciftMVc0dii"
      },
      "execution_count": 9,
      "outputs": []
    },
    {
      "cell_type": "markdown",
      "source": [
        "Se utilizo StratifiedKFold porque, al tratarse de un problema de clasificación desbalanceado, esta técnica garantiza que al dividir los datos en folds se mantiene la misma proporción de clases que en el conjunto original."
      ],
      "metadata": {
        "id": "QWDViLP-NlOa"
      }
    },
    {
      "cell_type": "code",
      "source": [
        "cv1 = StratifiedKFold(n_splits=5, shuffle=True, random_state=5) #con shuffle=True mezclamos los datos antes de partirlos"
      ],
      "metadata": {
        "id": "Z1aYXHhDBxqQ"
      },
      "execution_count": 10,
      "outputs": []
    },
    {
      "cell_type": "markdown",
      "source": [
        "A continuación, se crea el árbol de decisión y se preparan los datos. Utilizando cv1, que divide el conjunto en cinco pliegues, se repite cinco veces el siguiente procedimiento: el modelo se entrena con cuatro pliegues y se evalúa con el restante. En cada una de las cinco iteraciones se calcula la métrica F1-score"
      ],
      "metadata": {
        "id": "wqlae5FSO61k"
      }
    },
    {
      "cell_type": "code",
      "source": [
        "model1 = DecisionTreeClassifier(random_state = 1)"
      ],
      "metadata": {
        "id": "DrmzCuOwSzk-"
      },
      "execution_count": 11,
      "outputs": []
    },
    {
      "cell_type": "code",
      "source": [
        "scores1= cross_validate(model1, features, labels, cv = cv1, scoring = 'f1')"
      ],
      "metadata": {
        "id": "qCshEnJNB3zt"
      },
      "execution_count": 12,
      "outputs": []
    },
    {
      "cell_type": "markdown",
      "source": [
        "Finalmente con los 5 resultados obtenidos se calcula el promedio y la desviación estándar"
      ],
      "metadata": {
        "id": "dmPTOyA7PYE3"
      }
    },
    {
      "cell_type": "code",
      "source": [
        "print(\"{:.3f}\".format(scores1['test_score'].mean()), \"{:.3f}\".format(scores1['test_score'].std()))"
      ],
      "metadata": {
        "colab": {
          "base_uri": "https://localhost:8080/"
        },
        "id": "TlknCmQ8B9ef",
        "outputId": "e95eae5e-c784-4c9b-f177-e5cf05943f4d"
      },
      "execution_count": 13,
      "outputs": [
        {
          "output_type": "stream",
          "name": "stdout",
          "text": [
            "0.634 0.002\n"
          ]
        }
      ]
    },
    {
      "cell_type": "markdown",
      "source": [
        "El modelo tiene un F1-Score promedio de 63.4% lo que nos indica que tenemos un balance entre Precisión y Recall. Con esto podemos decir que está encontrando aproximadamente el 63% de las señales de Higgs (recall) y cuando dice que encontró una señal, acierta el 63% de las veces (precisión). Por otro lado tenemos una desviación estándar de 0.002 lo que indica que el rendimiento del modelo es muy estable y consistente."
      ],
      "metadata": {
        "id": "ado-03aFRIHJ"
      }
    },
    {
      "cell_type": "markdown",
      "source": [
        "Para encontrar la matriz de confucion necesitamos utilizar cross_val_predict que nos permite ver que predijo el modelo para cado dato a diferencia de cross_validate que nos dice que tan bueno es el modelo mediante scores. Con las predicciones podemos comparar con las etiquetas reales (labels) para construir la matriz de confusión"
      ],
      "metadata": {
        "id": "1AUOs057LVIr"
      }
    },
    {
      "cell_type": "code",
      "source": [
        "y1 = cross_val_predict(model1, features, labels, cv = cv1) # etiquetas predichas"
      ],
      "metadata": {
        "id": "FbooaC_pRXYJ"
      },
      "execution_count": 14,
      "outputs": []
    },
    {
      "cell_type": "code",
      "source": [
        "metrics.confusion_matrix(labels,y1) #matriz de confusion"
      ],
      "metadata": {
        "colab": {
          "base_uri": "https://localhost:8080/"
        },
        "id": "Iri-V_tBDACo",
        "outputId": "cb94784b-a7b4-4527-c984-521e1fc30332"
      },
      "execution_count": 15,
      "outputs": [
        {
          "output_type": "execute_result",
          "data": {
            "text/plain": [
              "array([[13330,  3195],\n",
              "       [ 3054,  5420]])"
            ]
          },
          "metadata": {},
          "execution_count": 15
        }
      ]
    },
    {
      "cell_type": "markdown",
      "source": [
        "Tenemos 13.330 (TN) lo que indica que el modelo es bueno identificando que no hay Bosón de Higgs. También tenemos que el modelo encontró correctamente 5.420 (TP) señales del Bosón. Por otro lado hubo 3,054 casos en los que una señal real del Bosón de Higgs estaba presente, pero el modelo no la vio (FN), Finalmente hubo 3,195 casos en los que el modelo encontró una señal, pero en realidad no había nada (FP) y este es el error que predomina por poco."
      ],
      "metadata": {
        "id": "lMgWRRoHXdPP"
      }
    },
    {
      "cell_type": "markdown",
      "source": [
        "### Parte 3: SVMs\n",
        "\n",
        "- Ahora usemos un clasificador usando SVM. Usando SVC, deje los parámetros del clasificador los que viene por defecto y haga una validación cruzada con k=5 y reporte los scores, como hizo antes con el árbol de decisión. ¿Qué algoritmo tiene mejor performance?\n",
        "Nota: SVMs es un algoritmo lento y puede tomar tiempo este cálculo. Si toma demasiado tiempo, reduzca el número de folds (no menos de 3).\n",
        "- Reporte la matriz de confusión para SVC. Hay algún cambio de los valores de FP y FN respecto al modelo de árbol de decisión?"
      ],
      "metadata": {
        "id": "EnmMVnuggsHq"
      }
    },
    {
      "cell_type": "markdown",
      "source": [
        "Partimos con el modelo svc con random_state para que los resultados sean reproducibles"
      ],
      "metadata": {
        "id": "oOVhm42PGbkD"
      }
    },
    {
      "cell_type": "code",
      "source": [
        "model_svc = SVC(random_state=1)"
      ],
      "metadata": {
        "id": "0t9HisebisC9"
      },
      "execution_count": 64,
      "outputs": []
    },
    {
      "cell_type": "markdown",
      "source": [
        "Luego entrenamos el modelo varias veces utilizando diferentes particiones generadas por la validación cruzada, y evaluamos su desempeño mediante la métrica F1-score, buscando que el modelo la maximice."
      ],
      "metadata": {
        "id": "wlCtvmaxGxCu"
      }
    },
    {
      "cell_type": "code",
      "source": [
        "scores2= cross_validate(model_svc, features, labels, cv = cv1, scoring = 'f1') #se demora 1 min 27 s"
      ],
      "metadata": {
        "colab": {
          "base_uri": "https://localhost:8080/"
        },
        "id": "xgPR_fGEis9G",
        "outputId": "6ab85d00-98c2-4909-a74a-bd9edffe7d22"
      },
      "execution_count": 65,
      "outputs": [
        {
          "output_type": "stream",
          "name": "stderr",
          "text": [
            "/usr/local/lib/python3.12/dist-packages/sklearn/utils/validation.py:1408: DataConversionWarning: A column-vector y was passed when a 1d array was expected. Please change the shape of y to (n_samples, ), for example using ravel().\n",
            "  y = column_or_1d(y, warn=True)\n",
            "/usr/local/lib/python3.12/dist-packages/sklearn/utils/validation.py:1408: DataConversionWarning: A column-vector y was passed when a 1d array was expected. Please change the shape of y to (n_samples, ), for example using ravel().\n",
            "  y = column_or_1d(y, warn=True)\n",
            "/usr/local/lib/python3.12/dist-packages/sklearn/utils/validation.py:1408: DataConversionWarning: A column-vector y was passed when a 1d array was expected. Please change the shape of y to (n_samples, ), for example using ravel().\n",
            "  y = column_or_1d(y, warn=True)\n",
            "/usr/local/lib/python3.12/dist-packages/sklearn/utils/validation.py:1408: DataConversionWarning: A column-vector y was passed when a 1d array was expected. Please change the shape of y to (n_samples, ), for example using ravel().\n",
            "  y = column_or_1d(y, warn=True)\n",
            "/usr/local/lib/python3.12/dist-packages/sklearn/utils/validation.py:1408: DataConversionWarning: A column-vector y was passed when a 1d array was expected. Please change the shape of y to (n_samples, ), for example using ravel().\n",
            "  y = column_or_1d(y, warn=True)\n"
          ]
        }
      ]
    },
    {
      "cell_type": "markdown",
      "source": [
        "Se presenta el promedio y la desviacion estandar"
      ],
      "metadata": {
        "id": "tlWH-vaGIXLQ"
      }
    },
    {
      "cell_type": "code",
      "source": [
        "print(\"{:.3f}\".format(scores2['test_score'].mean()), \"{:.3f}\".format(scores2['test_score'].std()))"
      ],
      "metadata": {
        "colab": {
          "base_uri": "https://localhost:8080/"
        },
        "id": "RwkaWTzui2xm",
        "outputId": "927b6bb8-f8da-41fc-a808-71f93dcff63e"
      },
      "execution_count": 66,
      "outputs": [
        {
          "output_type": "stream",
          "name": "stdout",
          "text": [
            "0.663 0.004\n"
          ]
        }
      ]
    },
    {
      "cell_type": "markdown",
      "source": [
        "Aquí notamos que comparación del inciso anterior este modelo presenta un promedio del F1 score más alto, pero una desviación estándar más alta\n"
      ],
      "metadata": {
        "id": "q_qVmN2UMQlf"
      }
    },
    {
      "cell_type": "markdown",
      "source": [
        "utilizamos cross_val_predict para construir la matriz de confusión"
      ],
      "metadata": {
        "id": "GSmMzSQ0Km8d"
      }
    },
    {
      "cell_type": "code",
      "source": [
        "y2 = cross_val_predict(model_svc, features, labels, cv = cv1) # etiquetas predichas se demora 1 min 20 s"
      ],
      "metadata": {
        "colab": {
          "base_uri": "https://localhost:8080/"
        },
        "id": "2ciTwC1iji3P",
        "outputId": "eea39a53-da12-42b6-dc7e-1c36d39da1d4"
      },
      "execution_count": 67,
      "outputs": [
        {
          "output_type": "stream",
          "name": "stderr",
          "text": [
            "/usr/local/lib/python3.12/dist-packages/sklearn/utils/validation.py:1408: DataConversionWarning: A column-vector y was passed when a 1d array was expected. Please change the shape of y to (n_samples, ), for example using ravel().\n",
            "  y = column_or_1d(y, warn=True)\n",
            "/usr/local/lib/python3.12/dist-packages/sklearn/utils/validation.py:1408: DataConversionWarning: A column-vector y was passed when a 1d array was expected. Please change the shape of y to (n_samples, ), for example using ravel().\n",
            "  y = column_or_1d(y, warn=True)\n",
            "/usr/local/lib/python3.12/dist-packages/sklearn/utils/validation.py:1408: DataConversionWarning: A column-vector y was passed when a 1d array was expected. Please change the shape of y to (n_samples, ), for example using ravel().\n",
            "  y = column_or_1d(y, warn=True)\n",
            "/usr/local/lib/python3.12/dist-packages/sklearn/utils/validation.py:1408: DataConversionWarning: A column-vector y was passed when a 1d array was expected. Please change the shape of y to (n_samples, ), for example using ravel().\n",
            "  y = column_or_1d(y, warn=True)\n",
            "/usr/local/lib/python3.12/dist-packages/sklearn/utils/validation.py:1408: DataConversionWarning: A column-vector y was passed when a 1d array was expected. Please change the shape of y to (n_samples, ), for example using ravel().\n",
            "  y = column_or_1d(y, warn=True)\n"
          ]
        }
      ]
    },
    {
      "cell_type": "code",
      "source": [
        "metrics.confusion_matrix(labels,y2) #matriz de confusion"
      ],
      "metadata": {
        "colab": {
          "base_uri": "https://localhost:8080/"
        },
        "id": "2hjOhRO4joAp",
        "outputId": "2a09a66b-e63d-4044-fda8-bee83baadf4c"
      },
      "execution_count": 68,
      "outputs": [
        {
          "output_type": "execute_result",
          "data": {
            "text/plain": [
              "array([[14578,  1947],\n",
              "       [ 3303,  5171]])"
            ]
          },
          "metadata": {},
          "execution_count": 68
        }
      ]
    },
    {
      "cell_type": "markdown",
      "source": [
        "De la matriz vemos que el modelo predijo que había bosón y efectivamente sí había en 5171 casos (TP).El modelo acertó diciendo que 'no había señal' en 14578 casos (TN).Luego, en el caso donde predijo que había señal pero realmente no había, fueron 1947 casos (FP). Finalmente, hubo 3303 casos en los que el modelo dijo que 'no había señal', pero en realidad sí había una (FN). Este es el error más problemático, ya que son las señales que el modelo no pudo encontrar.\n",
        "\n",
        "Al comparar este modelo con el anterior, observamos que tiene un mejor desempeño al detectar los casos en los que no hay bosón, es decir, presenta un mayor número de verdaderos negativos (TN).Por otro lado, su capacidad para identificar correctamente los casos en los que sí hay bosón es inferior, ya que el modelo previo alcanzaba 5 420 verdaderos positivos (TP).Además, este modelo comete más errores al predecir que no hay señal cuando en realidad sí la hay, superando los 3 054 falsos negativos (FN) del modelo anterior.Finalmente, en los casos donde el modelo detecta una señal inexistente (FP), el desempeño mejora, ya que este valor resulta menor que los 3 195 obtenidos previamente."
      ],
      "metadata": {
        "id": "wXAZWw9mW22W"
      }
    },
    {
      "cell_type": "markdown",
      "source": [
        "### Parte 4: optimización de hiperparámetros\n",
        "\n",
        "- Intente optimizar los parámetros de SVC. Para evitar que tome demasiado tiempo, seleccione solo el primer 5% de los datos (asegúrese de desordenarlos antes)\n",
        "- Haga un esquema de CV con GridSearch, con los siguientes valores de parámetros:\n",
        "parameters = {'kernel':['linear','rbf'],'C':[1, 10, 100], 'gamma':[0.01, 0.1, 0.5], 'class_weight':[{1:1},{1:3},{1:5}]}\n",
        "- Recuerde seguir usando la métrica que eligió más arriba.\n",
        "- Esto tomará tiempo! Fije verbose=2 en GridSearch para monitorear el progreso, y njobs=4 o más para acelerar un poco el proceso.\n",
        "- Reporte los parámetros y scores del mejor modelo"
      ],
      "metadata": {
        "id": "weaaxpFhkGMc"
      }
    },
    {
      "cell_type": "markdown",
      "source": [
        "Partimos mezclando los datos y separamos el 5% de ellos"
      ],
      "metadata": {
        "id": "yhAWtyIoXa_t"
      }
    },
    {
      "cell_type": "code",
      "source": [
        "features_mesclados, labels_mesclados = shuffle(features, labels, random_state=2)"
      ],
      "metadata": {
        "id": "U0cSJx_xpOed"
      },
      "execution_count": 86,
      "outputs": []
    },
    {
      "cell_type": "code",
      "source": [
        "largo_features = len(features_mesclados)\n",
        "features_5 = int(largo_features * 0.05)\n",
        "largo_labels = len(labels_mesclados)\n",
        "labels_5 = int(largo_labels * 0.05)\n",
        "features5 = features_mesclados[:features_5]# 5% de los features\n",
        "labels5 = labels_mesclados[:labels_5]# 5% de los labels"
      ],
      "metadata": {
        "id": "B86MvjATqXGI"
      },
      "execution_count": 87,
      "outputs": []
    },
    {
      "cell_type": "markdown",
      "source": [
        "Primero utilice make_pipeline que me lo recomendo una IA ya que intente hacerlo sin esto solo con los parámetros que entregaba la tarea y usando este código:\n",
        "\n",
        "model_svc = SVC(random_state=1)\n",
        "\n",
        "parameters = {'kernel':['linear','rbf'],'C':[1, 10, 100], 'gamma':[0.01, 0.1, 0.5], 'class_weight':[{1:1},{1:3},{1:5}]}\n",
        "\n",
        "model = GridSearchCV(model_svc, parameters, cv=StratifiedKFold(n_splits=3, shuffle=True),scoring='f1', verbose=2, n_jobs=4, return_train_score=True)\n",
        "\n",
        "model.fit(features5, labels5)\n",
        "\n",
        "pero nunca terminaba de correr, de hecho esperé como media hora y no funcionó así que decidí cambiar. Con make_pipeline lo que hace es que le dice a scikit-learn que debe ejecutar los pasos en orden, primero con StandardScaler escala los datos, por lo que estuve leyendo esto ayuda a a SVC ya que este es muy sensible a la escala y luego con estos datos escalados se lo pasa al modelo SCV para que lo entrene"
      ],
      "metadata": {
        "id": "n3jYY9uSqw8x"
      }
    },
    {
      "cell_type": "code",
      "source": [
        "piped_model = make_pipeline(StandardScaler(), SVC())"
      ],
      "metadata": {
        "id": "_qSipsA2r7Nm"
      },
      "execution_count": 101,
      "outputs": []
    },
    {
      "cell_type": "code",
      "source": [
        "parameters = {'svc__kernel': ['linear', 'rbf'], 'svc__C': [1, 10, 100], 'svc__gamma': [0.01, 0.1, 0.5], 'svc__class_weight': [{1:1}, {1:3}, {1:5}] }"
      ],
      "metadata": {
        "id": "EySGmvI-tkAb"
      },
      "execution_count": 102,
      "outputs": []
    },
    {
      "cell_type": "code",
      "source": [
        "model = GridSearchCV(piped_model, parameters, cv=StratifiedKFold(n_splits=5, shuffle=True),scoring='f1', verbose=2, n_jobs=4, return_train_score=True)"
      ],
      "metadata": {
        "id": "6udDwMB6tmWG"
      },
      "execution_count": 103,
      "outputs": []
    },
    {
      "cell_type": "code",
      "source": [
        "model.fit(features5, labels5)"
      ],
      "metadata": {
        "colab": {
          "base_uri": "https://localhost:8080/",
          "height": 260
        },
        "id": "AAq1pvhG891_",
        "outputId": "497a5b19-196d-4598-b2fb-f4fdbb1b2eab"
      },
      "execution_count": 104,
      "outputs": [
        {
          "output_type": "stream",
          "name": "stdout",
          "text": [
            "Fitting 5 folds for each of 54 candidates, totalling 270 fits\n"
          ]
        },
        {
          "output_type": "stream",
          "name": "stderr",
          "text": [
            "/usr/local/lib/python3.12/dist-packages/sklearn/utils/validation.py:1408: DataConversionWarning: A column-vector y was passed when a 1d array was expected. Please change the shape of y to (n_samples, ), for example using ravel().\n",
            "  y = column_or_1d(y, warn=True)\n"
          ]
        },
        {
          "output_type": "execute_result",
          "data": {
            "text/plain": [
              "GridSearchCV(cv=StratifiedKFold(n_splits=5, random_state=None, shuffle=True),\n",
              "             estimator=Pipeline(steps=[('standardscaler', StandardScaler()),\n",
              "                                       ('svc', SVC())]),\n",
              "             n_jobs=4,\n",
              "             param_grid={'svc__C': [1, 10, 100],\n",
              "                         'svc__class_weight': [{1: 1}, {1: 3}, {1: 5}],\n",
              "                         'svc__gamma': [0.01, 0.1, 0.5],\n",
              "                         'svc__kernel': ['linear', 'rbf']},\n",
              "             return_train_score=True, scoring='f1', verbose=2)"
            ],
            "text/html": [
              "<style>#sk-container-id-5 {\n",
              "  /* Definition of color scheme common for light and dark mode */\n",
              "  --sklearn-color-text: #000;\n",
              "  --sklearn-color-text-muted: #666;\n",
              "  --sklearn-color-line: gray;\n",
              "  /* Definition of color scheme for unfitted estimators */\n",
              "  --sklearn-color-unfitted-level-0: #fff5e6;\n",
              "  --sklearn-color-unfitted-level-1: #f6e4d2;\n",
              "  --sklearn-color-unfitted-level-2: #ffe0b3;\n",
              "  --sklearn-color-unfitted-level-3: chocolate;\n",
              "  /* Definition of color scheme for fitted estimators */\n",
              "  --sklearn-color-fitted-level-0: #f0f8ff;\n",
              "  --sklearn-color-fitted-level-1: #d4ebff;\n",
              "  --sklearn-color-fitted-level-2: #b3dbfd;\n",
              "  --sklearn-color-fitted-level-3: cornflowerblue;\n",
              "\n",
              "  /* Specific color for light theme */\n",
              "  --sklearn-color-text-on-default-background: var(--sg-text-color, var(--theme-code-foreground, var(--jp-content-font-color1, black)));\n",
              "  --sklearn-color-background: var(--sg-background-color, var(--theme-background, var(--jp-layout-color0, white)));\n",
              "  --sklearn-color-border-box: var(--sg-text-color, var(--theme-code-foreground, var(--jp-content-font-color1, black)));\n",
              "  --sklearn-color-icon: #696969;\n",
              "\n",
              "  @media (prefers-color-scheme: dark) {\n",
              "    /* Redefinition of color scheme for dark theme */\n",
              "    --sklearn-color-text-on-default-background: var(--sg-text-color, var(--theme-code-foreground, var(--jp-content-font-color1, white)));\n",
              "    --sklearn-color-background: var(--sg-background-color, var(--theme-background, var(--jp-layout-color0, #111)));\n",
              "    --sklearn-color-border-box: var(--sg-text-color, var(--theme-code-foreground, var(--jp-content-font-color1, white)));\n",
              "    --sklearn-color-icon: #878787;\n",
              "  }\n",
              "}\n",
              "\n",
              "#sk-container-id-5 {\n",
              "  color: var(--sklearn-color-text);\n",
              "}\n",
              "\n",
              "#sk-container-id-5 pre {\n",
              "  padding: 0;\n",
              "}\n",
              "\n",
              "#sk-container-id-5 input.sk-hidden--visually {\n",
              "  border: 0;\n",
              "  clip: rect(1px 1px 1px 1px);\n",
              "  clip: rect(1px, 1px, 1px, 1px);\n",
              "  height: 1px;\n",
              "  margin: -1px;\n",
              "  overflow: hidden;\n",
              "  padding: 0;\n",
              "  position: absolute;\n",
              "  width: 1px;\n",
              "}\n",
              "\n",
              "#sk-container-id-5 div.sk-dashed-wrapped {\n",
              "  border: 1px dashed var(--sklearn-color-line);\n",
              "  margin: 0 0.4em 0.5em 0.4em;\n",
              "  box-sizing: border-box;\n",
              "  padding-bottom: 0.4em;\n",
              "  background-color: var(--sklearn-color-background);\n",
              "}\n",
              "\n",
              "#sk-container-id-5 div.sk-container {\n",
              "  /* jupyter's `normalize.less` sets `[hidden] { display: none; }`\n",
              "     but bootstrap.min.css set `[hidden] { display: none !important; }`\n",
              "     so we also need the `!important` here to be able to override the\n",
              "     default hidden behavior on the sphinx rendered scikit-learn.org.\n",
              "     See: https://github.com/scikit-learn/scikit-learn/issues/21755 */\n",
              "  display: inline-block !important;\n",
              "  position: relative;\n",
              "}\n",
              "\n",
              "#sk-container-id-5 div.sk-text-repr-fallback {\n",
              "  display: none;\n",
              "}\n",
              "\n",
              "div.sk-parallel-item,\n",
              "div.sk-serial,\n",
              "div.sk-item {\n",
              "  /* draw centered vertical line to link estimators */\n",
              "  background-image: linear-gradient(var(--sklearn-color-text-on-default-background), var(--sklearn-color-text-on-default-background));\n",
              "  background-size: 2px 100%;\n",
              "  background-repeat: no-repeat;\n",
              "  background-position: center center;\n",
              "}\n",
              "\n",
              "/* Parallel-specific style estimator block */\n",
              "\n",
              "#sk-container-id-5 div.sk-parallel-item::after {\n",
              "  content: \"\";\n",
              "  width: 100%;\n",
              "  border-bottom: 2px solid var(--sklearn-color-text-on-default-background);\n",
              "  flex-grow: 1;\n",
              "}\n",
              "\n",
              "#sk-container-id-5 div.sk-parallel {\n",
              "  display: flex;\n",
              "  align-items: stretch;\n",
              "  justify-content: center;\n",
              "  background-color: var(--sklearn-color-background);\n",
              "  position: relative;\n",
              "}\n",
              "\n",
              "#sk-container-id-5 div.sk-parallel-item {\n",
              "  display: flex;\n",
              "  flex-direction: column;\n",
              "}\n",
              "\n",
              "#sk-container-id-5 div.sk-parallel-item:first-child::after {\n",
              "  align-self: flex-end;\n",
              "  width: 50%;\n",
              "}\n",
              "\n",
              "#sk-container-id-5 div.sk-parallel-item:last-child::after {\n",
              "  align-self: flex-start;\n",
              "  width: 50%;\n",
              "}\n",
              "\n",
              "#sk-container-id-5 div.sk-parallel-item:only-child::after {\n",
              "  width: 0;\n",
              "}\n",
              "\n",
              "/* Serial-specific style estimator block */\n",
              "\n",
              "#sk-container-id-5 div.sk-serial {\n",
              "  display: flex;\n",
              "  flex-direction: column;\n",
              "  align-items: center;\n",
              "  background-color: var(--sklearn-color-background);\n",
              "  padding-right: 1em;\n",
              "  padding-left: 1em;\n",
              "}\n",
              "\n",
              "\n",
              "/* Toggleable style: style used for estimator/Pipeline/ColumnTransformer box that is\n",
              "clickable and can be expanded/collapsed.\n",
              "- Pipeline and ColumnTransformer use this feature and define the default style\n",
              "- Estimators will overwrite some part of the style using the `sk-estimator` class\n",
              "*/\n",
              "\n",
              "/* Pipeline and ColumnTransformer style (default) */\n",
              "\n",
              "#sk-container-id-5 div.sk-toggleable {\n",
              "  /* Default theme specific background. It is overwritten whether we have a\n",
              "  specific estimator or a Pipeline/ColumnTransformer */\n",
              "  background-color: var(--sklearn-color-background);\n",
              "}\n",
              "\n",
              "/* Toggleable label */\n",
              "#sk-container-id-5 label.sk-toggleable__label {\n",
              "  cursor: pointer;\n",
              "  display: flex;\n",
              "  width: 100%;\n",
              "  margin-bottom: 0;\n",
              "  padding: 0.5em;\n",
              "  box-sizing: border-box;\n",
              "  text-align: center;\n",
              "  align-items: start;\n",
              "  justify-content: space-between;\n",
              "  gap: 0.5em;\n",
              "}\n",
              "\n",
              "#sk-container-id-5 label.sk-toggleable__label .caption {\n",
              "  font-size: 0.6rem;\n",
              "  font-weight: lighter;\n",
              "  color: var(--sklearn-color-text-muted);\n",
              "}\n",
              "\n",
              "#sk-container-id-5 label.sk-toggleable__label-arrow:before {\n",
              "  /* Arrow on the left of the label */\n",
              "  content: \"▸\";\n",
              "  float: left;\n",
              "  margin-right: 0.25em;\n",
              "  color: var(--sklearn-color-icon);\n",
              "}\n",
              "\n",
              "#sk-container-id-5 label.sk-toggleable__label-arrow:hover:before {\n",
              "  color: var(--sklearn-color-text);\n",
              "}\n",
              "\n",
              "/* Toggleable content - dropdown */\n",
              "\n",
              "#sk-container-id-5 div.sk-toggleable__content {\n",
              "  max-height: 0;\n",
              "  max-width: 0;\n",
              "  overflow: hidden;\n",
              "  text-align: left;\n",
              "  /* unfitted */\n",
              "  background-color: var(--sklearn-color-unfitted-level-0);\n",
              "}\n",
              "\n",
              "#sk-container-id-5 div.sk-toggleable__content.fitted {\n",
              "  /* fitted */\n",
              "  background-color: var(--sklearn-color-fitted-level-0);\n",
              "}\n",
              "\n",
              "#sk-container-id-5 div.sk-toggleable__content pre {\n",
              "  margin: 0.2em;\n",
              "  border-radius: 0.25em;\n",
              "  color: var(--sklearn-color-text);\n",
              "  /* unfitted */\n",
              "  background-color: var(--sklearn-color-unfitted-level-0);\n",
              "}\n",
              "\n",
              "#sk-container-id-5 div.sk-toggleable__content.fitted pre {\n",
              "  /* unfitted */\n",
              "  background-color: var(--sklearn-color-fitted-level-0);\n",
              "}\n",
              "\n",
              "#sk-container-id-5 input.sk-toggleable__control:checked~div.sk-toggleable__content {\n",
              "  /* Expand drop-down */\n",
              "  max-height: 200px;\n",
              "  max-width: 100%;\n",
              "  overflow: auto;\n",
              "}\n",
              "\n",
              "#sk-container-id-5 input.sk-toggleable__control:checked~label.sk-toggleable__label-arrow:before {\n",
              "  content: \"▾\";\n",
              "}\n",
              "\n",
              "/* Pipeline/ColumnTransformer-specific style */\n",
              "\n",
              "#sk-container-id-5 div.sk-label input.sk-toggleable__control:checked~label.sk-toggleable__label {\n",
              "  color: var(--sklearn-color-text);\n",
              "  background-color: var(--sklearn-color-unfitted-level-2);\n",
              "}\n",
              "\n",
              "#sk-container-id-5 div.sk-label.fitted input.sk-toggleable__control:checked~label.sk-toggleable__label {\n",
              "  background-color: var(--sklearn-color-fitted-level-2);\n",
              "}\n",
              "\n",
              "/* Estimator-specific style */\n",
              "\n",
              "/* Colorize estimator box */\n",
              "#sk-container-id-5 div.sk-estimator input.sk-toggleable__control:checked~label.sk-toggleable__label {\n",
              "  /* unfitted */\n",
              "  background-color: var(--sklearn-color-unfitted-level-2);\n",
              "}\n",
              "\n",
              "#sk-container-id-5 div.sk-estimator.fitted input.sk-toggleable__control:checked~label.sk-toggleable__label {\n",
              "  /* fitted */\n",
              "  background-color: var(--sklearn-color-fitted-level-2);\n",
              "}\n",
              "\n",
              "#sk-container-id-5 div.sk-label label.sk-toggleable__label,\n",
              "#sk-container-id-5 div.sk-label label {\n",
              "  /* The background is the default theme color */\n",
              "  color: var(--sklearn-color-text-on-default-background);\n",
              "}\n",
              "\n",
              "/* On hover, darken the color of the background */\n",
              "#sk-container-id-5 div.sk-label:hover label.sk-toggleable__label {\n",
              "  color: var(--sklearn-color-text);\n",
              "  background-color: var(--sklearn-color-unfitted-level-2);\n",
              "}\n",
              "\n",
              "/* Label box, darken color on hover, fitted */\n",
              "#sk-container-id-5 div.sk-label.fitted:hover label.sk-toggleable__label.fitted {\n",
              "  color: var(--sklearn-color-text);\n",
              "  background-color: var(--sklearn-color-fitted-level-2);\n",
              "}\n",
              "\n",
              "/* Estimator label */\n",
              "\n",
              "#sk-container-id-5 div.sk-label label {\n",
              "  font-family: monospace;\n",
              "  font-weight: bold;\n",
              "  display: inline-block;\n",
              "  line-height: 1.2em;\n",
              "}\n",
              "\n",
              "#sk-container-id-5 div.sk-label-container {\n",
              "  text-align: center;\n",
              "}\n",
              "\n",
              "/* Estimator-specific */\n",
              "#sk-container-id-5 div.sk-estimator {\n",
              "  font-family: monospace;\n",
              "  border: 1px dotted var(--sklearn-color-border-box);\n",
              "  border-radius: 0.25em;\n",
              "  box-sizing: border-box;\n",
              "  margin-bottom: 0.5em;\n",
              "  /* unfitted */\n",
              "  background-color: var(--sklearn-color-unfitted-level-0);\n",
              "}\n",
              "\n",
              "#sk-container-id-5 div.sk-estimator.fitted {\n",
              "  /* fitted */\n",
              "  background-color: var(--sklearn-color-fitted-level-0);\n",
              "}\n",
              "\n",
              "/* on hover */\n",
              "#sk-container-id-5 div.sk-estimator:hover {\n",
              "  /* unfitted */\n",
              "  background-color: var(--sklearn-color-unfitted-level-2);\n",
              "}\n",
              "\n",
              "#sk-container-id-5 div.sk-estimator.fitted:hover {\n",
              "  /* fitted */\n",
              "  background-color: var(--sklearn-color-fitted-level-2);\n",
              "}\n",
              "\n",
              "/* Specification for estimator info (e.g. \"i\" and \"?\") */\n",
              "\n",
              "/* Common style for \"i\" and \"?\" */\n",
              "\n",
              ".sk-estimator-doc-link,\n",
              "a:link.sk-estimator-doc-link,\n",
              "a:visited.sk-estimator-doc-link {\n",
              "  float: right;\n",
              "  font-size: smaller;\n",
              "  line-height: 1em;\n",
              "  font-family: monospace;\n",
              "  background-color: var(--sklearn-color-background);\n",
              "  border-radius: 1em;\n",
              "  height: 1em;\n",
              "  width: 1em;\n",
              "  text-decoration: none !important;\n",
              "  margin-left: 0.5em;\n",
              "  text-align: center;\n",
              "  /* unfitted */\n",
              "  border: var(--sklearn-color-unfitted-level-1) 1pt solid;\n",
              "  color: var(--sklearn-color-unfitted-level-1);\n",
              "}\n",
              "\n",
              ".sk-estimator-doc-link.fitted,\n",
              "a:link.sk-estimator-doc-link.fitted,\n",
              "a:visited.sk-estimator-doc-link.fitted {\n",
              "  /* fitted */\n",
              "  border: var(--sklearn-color-fitted-level-1) 1pt solid;\n",
              "  color: var(--sklearn-color-fitted-level-1);\n",
              "}\n",
              "\n",
              "/* On hover */\n",
              "div.sk-estimator:hover .sk-estimator-doc-link:hover,\n",
              ".sk-estimator-doc-link:hover,\n",
              "div.sk-label-container:hover .sk-estimator-doc-link:hover,\n",
              ".sk-estimator-doc-link:hover {\n",
              "  /* unfitted */\n",
              "  background-color: var(--sklearn-color-unfitted-level-3);\n",
              "  color: var(--sklearn-color-background);\n",
              "  text-decoration: none;\n",
              "}\n",
              "\n",
              "div.sk-estimator.fitted:hover .sk-estimator-doc-link.fitted:hover,\n",
              ".sk-estimator-doc-link.fitted:hover,\n",
              "div.sk-label-container:hover .sk-estimator-doc-link.fitted:hover,\n",
              ".sk-estimator-doc-link.fitted:hover {\n",
              "  /* fitted */\n",
              "  background-color: var(--sklearn-color-fitted-level-3);\n",
              "  color: var(--sklearn-color-background);\n",
              "  text-decoration: none;\n",
              "}\n",
              "\n",
              "/* Span, style for the box shown on hovering the info icon */\n",
              ".sk-estimator-doc-link span {\n",
              "  display: none;\n",
              "  z-index: 9999;\n",
              "  position: relative;\n",
              "  font-weight: normal;\n",
              "  right: .2ex;\n",
              "  padding: .5ex;\n",
              "  margin: .5ex;\n",
              "  width: min-content;\n",
              "  min-width: 20ex;\n",
              "  max-width: 50ex;\n",
              "  color: var(--sklearn-color-text);\n",
              "  box-shadow: 2pt 2pt 4pt #999;\n",
              "  /* unfitted */\n",
              "  background: var(--sklearn-color-unfitted-level-0);\n",
              "  border: .5pt solid var(--sklearn-color-unfitted-level-3);\n",
              "}\n",
              "\n",
              ".sk-estimator-doc-link.fitted span {\n",
              "  /* fitted */\n",
              "  background: var(--sklearn-color-fitted-level-0);\n",
              "  border: var(--sklearn-color-fitted-level-3);\n",
              "}\n",
              "\n",
              ".sk-estimator-doc-link:hover span {\n",
              "  display: block;\n",
              "}\n",
              "\n",
              "/* \"?\"-specific style due to the `<a>` HTML tag */\n",
              "\n",
              "#sk-container-id-5 a.estimator_doc_link {\n",
              "  float: right;\n",
              "  font-size: 1rem;\n",
              "  line-height: 1em;\n",
              "  font-family: monospace;\n",
              "  background-color: var(--sklearn-color-background);\n",
              "  border-radius: 1rem;\n",
              "  height: 1rem;\n",
              "  width: 1rem;\n",
              "  text-decoration: none;\n",
              "  /* unfitted */\n",
              "  color: var(--sklearn-color-unfitted-level-1);\n",
              "  border: var(--sklearn-color-unfitted-level-1) 1pt solid;\n",
              "}\n",
              "\n",
              "#sk-container-id-5 a.estimator_doc_link.fitted {\n",
              "  /* fitted */\n",
              "  border: var(--sklearn-color-fitted-level-1) 1pt solid;\n",
              "  color: var(--sklearn-color-fitted-level-1);\n",
              "}\n",
              "\n",
              "/* On hover */\n",
              "#sk-container-id-5 a.estimator_doc_link:hover {\n",
              "  /* unfitted */\n",
              "  background-color: var(--sklearn-color-unfitted-level-3);\n",
              "  color: var(--sklearn-color-background);\n",
              "  text-decoration: none;\n",
              "}\n",
              "\n",
              "#sk-container-id-5 a.estimator_doc_link.fitted:hover {\n",
              "  /* fitted */\n",
              "  background-color: var(--sklearn-color-fitted-level-3);\n",
              "}\n",
              "</style><div id=\"sk-container-id-5\" class=\"sk-top-container\"><div class=\"sk-text-repr-fallback\"><pre>GridSearchCV(cv=StratifiedKFold(n_splits=5, random_state=None, shuffle=True),\n",
              "             estimator=Pipeline(steps=[(&#x27;standardscaler&#x27;, StandardScaler()),\n",
              "                                       (&#x27;svc&#x27;, SVC())]),\n",
              "             n_jobs=4,\n",
              "             param_grid={&#x27;svc__C&#x27;: [1, 10, 100],\n",
              "                         &#x27;svc__class_weight&#x27;: [{1: 1}, {1: 3}, {1: 5}],\n",
              "                         &#x27;svc__gamma&#x27;: [0.01, 0.1, 0.5],\n",
              "                         &#x27;svc__kernel&#x27;: [&#x27;linear&#x27;, &#x27;rbf&#x27;]},\n",
              "             return_train_score=True, scoring=&#x27;f1&#x27;, verbose=2)</pre><b>In a Jupyter environment, please rerun this cell to show the HTML representation or trust the notebook. <br />On GitHub, the HTML representation is unable to render, please try loading this page with nbviewer.org.</b></div><div class=\"sk-container\" hidden><div class=\"sk-item sk-dashed-wrapped\"><div class=\"sk-label-container\"><div class=\"sk-label fitted sk-toggleable\"><input class=\"sk-toggleable__control sk-hidden--visually\" id=\"sk-estimator-id-17\" type=\"checkbox\" ><label for=\"sk-estimator-id-17\" class=\"sk-toggleable__label fitted sk-toggleable__label-arrow\"><div><div>GridSearchCV</div></div><div><a class=\"sk-estimator-doc-link fitted\" rel=\"noreferrer\" target=\"_blank\" href=\"https://scikit-learn.org/1.6/modules/generated/sklearn.model_selection.GridSearchCV.html\">?<span>Documentation for GridSearchCV</span></a><span class=\"sk-estimator-doc-link fitted\">i<span>Fitted</span></span></div></label><div class=\"sk-toggleable__content fitted\"><pre>GridSearchCV(cv=StratifiedKFold(n_splits=5, random_state=None, shuffle=True),\n",
              "             estimator=Pipeline(steps=[(&#x27;standardscaler&#x27;, StandardScaler()),\n",
              "                                       (&#x27;svc&#x27;, SVC())]),\n",
              "             n_jobs=4,\n",
              "             param_grid={&#x27;svc__C&#x27;: [1, 10, 100],\n",
              "                         &#x27;svc__class_weight&#x27;: [{1: 1}, {1: 3}, {1: 5}],\n",
              "                         &#x27;svc__gamma&#x27;: [0.01, 0.1, 0.5],\n",
              "                         &#x27;svc__kernel&#x27;: [&#x27;linear&#x27;, &#x27;rbf&#x27;]},\n",
              "             return_train_score=True, scoring=&#x27;f1&#x27;, verbose=2)</pre></div> </div></div><div class=\"sk-parallel\"><div class=\"sk-parallel-item\"><div class=\"sk-item\"><div class=\"sk-label-container\"><div class=\"sk-label fitted sk-toggleable\"><input class=\"sk-toggleable__control sk-hidden--visually\" id=\"sk-estimator-id-18\" type=\"checkbox\" ><label for=\"sk-estimator-id-18\" class=\"sk-toggleable__label fitted sk-toggleable__label-arrow\"><div><div>best_estimator_: Pipeline</div></div></label><div class=\"sk-toggleable__content fitted\"><pre>Pipeline(steps=[(&#x27;standardscaler&#x27;, StandardScaler()),\n",
              "                (&#x27;svc&#x27;, SVC(C=10, class_weight={1: 3}, gamma=0.1))])</pre></div> </div></div><div class=\"sk-serial\"><div class=\"sk-item\"><div class=\"sk-serial\"><div class=\"sk-item\"><div class=\"sk-estimator fitted sk-toggleable\"><input class=\"sk-toggleable__control sk-hidden--visually\" id=\"sk-estimator-id-19\" type=\"checkbox\" ><label for=\"sk-estimator-id-19\" class=\"sk-toggleable__label fitted sk-toggleable__label-arrow\"><div><div>StandardScaler</div></div><div><a class=\"sk-estimator-doc-link fitted\" rel=\"noreferrer\" target=\"_blank\" href=\"https://scikit-learn.org/1.6/modules/generated/sklearn.preprocessing.StandardScaler.html\">?<span>Documentation for StandardScaler</span></a></div></label><div class=\"sk-toggleable__content fitted\"><pre>StandardScaler()</pre></div> </div></div><div class=\"sk-item\"><div class=\"sk-estimator fitted sk-toggleable\"><input class=\"sk-toggleable__control sk-hidden--visually\" id=\"sk-estimator-id-20\" type=\"checkbox\" ><label for=\"sk-estimator-id-20\" class=\"sk-toggleable__label fitted sk-toggleable__label-arrow\"><div><div>SVC</div></div><div><a class=\"sk-estimator-doc-link fitted\" rel=\"noreferrer\" target=\"_blank\" href=\"https://scikit-learn.org/1.6/modules/generated/sklearn.svm.SVC.html\">?<span>Documentation for SVC</span></a></div></label><div class=\"sk-toggleable__content fitted\"><pre>SVC(C=10, class_weight={1: 3}, gamma=0.1)</pre></div> </div></div></div></div></div></div></div></div></div></div></div>"
            ]
          },
          "metadata": {},
          "execution_count": 104
        }
      ]
    },
    {
      "cell_type": "code",
      "source": [
        "print(f\"La mejor combinación de parámetros es:\")\n",
        "print(model.best_params_)\n",
        "print(f\"El mejor score fue:\")\n",
        "print(f\"{model.best_score_}\")"
      ],
      "metadata": {
        "colab": {
          "base_uri": "https://localhost:8080/"
        },
        "id": "SvtNRboQ-9rb",
        "outputId": "691801fb-9026-4fa5-a469-9a58f467e185"
      },
      "execution_count": 96,
      "outputs": [
        {
          "output_type": "stream",
          "name": "stdout",
          "text": [
            "La mejor combinación de parámetros es:\n",
            "{'svc__C': 10, 'svc__class_weight': {1: 1}, 'svc__gamma': 0.1, 'svc__kernel': 'rbf'}\n",
            "El mejor score fue:\n",
            "0.6912101553065407\n"
          ]
        }
      ]
    },
    {
      "cell_type": "markdown",
      "source": [
        "### Parte 5: clases imbalanceadas\n",
        "- Existen muchas estrategias para manejar clases imbalanceadas... (De hecho, en el paso anterior aplicamos una, puede decir cuál es?). Investigue o piense una solución para el desbalance, impleméntela para SVC con los parámetros optimizados, y comente su resultado, compare con el anterior"
      ],
      "metadata": {
        "id": "v3suAZj9Aoq9"
      }
    },
    {
      "cell_type": "markdown",
      "source": [
        "Para el caso anterior la estrategia para combatir el desbalance fue class_weight':[{1:1},{1:3},{1:5}] que nos permitio ajustar la importancia de cada clase para que el algoritmo preste mayor atención a la clase minoritaria. Al darle los valores {1:1}, {1:3} y {1:5}, el modelo considera que cometer un error en la clase 1 es igual, tres o cinco veces peor que equivocarse en la clase 0. Así, al aplicar GridSearchCV, no solo se buscan los mejores hiperparámetros, sino que también se penaliza al modelo por cometer errores en la clase menos representada."
      ],
      "metadata": {
        "id": "npFGMPAGjHAG"
      }
    },
    {
      "cell_type": "markdown",
      "source": [
        "Leyendo del class_weight encontré que se podía usar ´balance´ que lo que hace  es que ajusta automáticamente el peso de cada clase según su frecuencia por lo que es muy parecido a lo que teníamos antes pero esta vez al depender de la frecuencia los errores cometidos en la clase minoritaria son penalizados con mayor severidad que aquellos en la clase mayoritaria."
      ],
      "metadata": {
        "id": "SWWAYi9zyGMi"
      }
    },
    {
      "cell_type": "code",
      "source": [
        "svc_balanced = make_pipeline(StandardScaler(), SVC(kernel='rbf', C=10, gamma=0.1, class_weight='balanced'))\n",
        "\n",
        "print(f\"F1-score= {f1_score(labels5, y_pred_balanced):.4f}\")\n"
      ],
      "metadata": {
        "colab": {
          "base_uri": "https://localhost:8080/"
        },
        "id": "MBmH_KHqwTJ5",
        "outputId": "2cfdf752-4b7f-4c04-c7b0-5512c2c241da"
      },
      "execution_count": 113,
      "outputs": [
        {
          "output_type": "stream",
          "name": "stdout",
          "text": [
            "F1-score= 0.7054\n"
          ]
        }
      ]
    },
    {
      "cell_type": "markdown",
      "source": [
        "Con este ajuste pudimos mejorar la puntuación de la métrica, lo que indica que el modelo tuvo un mejor desempeño."
      ],
      "metadata": {
        "id": "IInJt9hpyZwq"
      }
    },
    {
      "cell_type": "markdown",
      "source": [
        "### Parte 6: Conclusiones\n",
        "\n",
        "- En base a sus resultados, cuál algoritmo de clasificación recomendaría para este problema?\n",
        "- ¿Qué otras consideraciones o limitaciones tenemos?"
      ],
      "metadata": {
        "id": "kWn9ai9Uwvk2"
      }
    },
    {
      "cell_type": "markdown",
      "source": [
        "En base a los resultados, el algoritmo que recomendaría es GridSearchCV con la opción class_weight='balanced', ya que fue el que obtuvo el mejor valor de F1-score.\n",
        "\n",
        "Las principales limitaciones de este modelo se deben al tamaño del conjunto de datos. Dado que la cantidad de muestras es muy grande, la prueba se realizó solo con una parte de ellas, lo que implica que los resultados no representan completamente la realidad. Además, si se hubiese trabajado con la totalidad de los datos, el proceso habría requerido un tiempo de ejecución excesivo. Por ello, aunque el modelo presenta una buena métrica, aún se encuentra poco optimizado.\n",
        "\n",
        "Aun así, elegí este modelo porque los datos que maneja son complejos y, en este caso, la precisión al detectar correctamente la presencia del bosón de Higgs resulta mucho más relevante que la optimización del tiempo de cómputo. En contextos científicos, los errores de clasificación pueden tener consecuencias significativas, por lo que es preferible priorizar la calidad y confiabilidad de las predicciones por sobre la velocidad del entrenamiento.\n",
        "\n",
        " Además, es importante considerar algunos aspectos adicionales. El modelo SVC es altamente sensible a la escala de los datos, por lo que fue necesario aplicar un proceso de normalización con StandardScaler() antes del entrenamiento. Por otro lado, F1-score busca un equilibrio entre precision y recall, pero si el objetivo principal fuera detectar todos los eventos de bosón de Higgs, podría haberse priorizado el recall como métrica principal."
      ],
      "metadata": {
        "id": "Ab7x3hQA0oFg"
      }
    }
  ]
}